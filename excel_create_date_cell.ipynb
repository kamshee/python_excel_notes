{
 "cells": [
  {
   "cell_type": "markdown",
   "metadata": {},
   "source": [
    "# Example: Formatting date with pandas and excel files\n",
    "More resources: https://xlsxwriter.readthedocs.io/working_with_pandas.html"
   ]
  },
  {
   "cell_type": "markdown",
   "metadata": {},
   "source": [
    "# This works in creating a 'Date' formatted cell"
   ]
  },
  {
   "cell_type": "code",
   "execution_count": 1,
   "metadata": {},
   "outputs": [],
   "source": [
    "# import packages\n",
    "import pandas as pd\n",
    "import os\n",
    "from pathlib import PureWindowsPath\n",
    "import re\n",
    "from datetime import datetime, timedelta\n",
    "import glob"
   ]
  },
  {
   "cell_type": "code",
   "execution_count": 35,
   "metadata": {},
   "outputs": [],
   "source": [
    "from datetime import datetime, date\n",
    "\n",
    "# Create a Pandas dataframe from some datetime data.\n",
    "df_test = pd.DataFrame({'Name': ['First', 'Second', 'Third', 'Fourth', 'Fifth'],\n",
    "                   'Number': [0,1,2,3,4],\n",
    "                   'Date and time': [datetime(2015, 1, 1, 11, 30, 55),\n",
    "                                     datetime(2015, 1, 2, 1,  20, 33),\n",
    "                                     datetime(2015, 1, 3, 11, 10    ),\n",
    "                                     datetime(2015, 1, 4, 16, 45, 35),\n",
    "                                     datetime(2015, 1, 5, 12, 10, 15)],\n",
    "                   'Dates only':    [date(2015, 2, 1),\n",
    "                                     date(2015, 2, 2),\n",
    "                                     date(2015, 2, 3),\n",
    "                                     date(2015, 2, 4),\n",
    "                                     date(2015, 2, 5)],\n",
    "                   })"
   ]
  },
  {
   "cell_type": "code",
   "execution_count": 36,
   "metadata": {},
   "outputs": [
    {
     "data": {
      "text/html": [
       "<div>\n",
       "<style scoped>\n",
       "    .dataframe tbody tr th:only-of-type {\n",
       "        vertical-align: middle;\n",
       "    }\n",
       "\n",
       "    .dataframe tbody tr th {\n",
       "        vertical-align: top;\n",
       "    }\n",
       "\n",
       "    .dataframe thead th {\n",
       "        text-align: right;\n",
       "    }\n",
       "</style>\n",
       "<table border=\"1\" class=\"dataframe\">\n",
       "  <thead>\n",
       "    <tr style=\"text-align: right;\">\n",
       "      <th></th>\n",
       "      <th>Name</th>\n",
       "      <th>Number</th>\n",
       "      <th>Date and time</th>\n",
       "      <th>Dates only</th>\n",
       "    </tr>\n",
       "  </thead>\n",
       "  <tbody>\n",
       "    <tr>\n",
       "      <th>0</th>\n",
       "      <td>First</td>\n",
       "      <td>0</td>\n",
       "      <td>2015-01-01 11:30:55</td>\n",
       "      <td>2015-02-01</td>\n",
       "    </tr>\n",
       "    <tr>\n",
       "      <th>1</th>\n",
       "      <td>Second</td>\n",
       "      <td>1</td>\n",
       "      <td>2015-01-02 01:20:33</td>\n",
       "      <td>2015-02-02</td>\n",
       "    </tr>\n",
       "    <tr>\n",
       "      <th>2</th>\n",
       "      <td>Third</td>\n",
       "      <td>2</td>\n",
       "      <td>2015-01-03 11:10:00</td>\n",
       "      <td>2015-02-03</td>\n",
       "    </tr>\n",
       "    <tr>\n",
       "      <th>3</th>\n",
       "      <td>Fourth</td>\n",
       "      <td>3</td>\n",
       "      <td>2015-01-04 16:45:35</td>\n",
       "      <td>2015-02-04</td>\n",
       "    </tr>\n",
       "    <tr>\n",
       "      <th>4</th>\n",
       "      <td>Fifth</td>\n",
       "      <td>4</td>\n",
       "      <td>2015-01-05 12:10:15</td>\n",
       "      <td>2015-02-05</td>\n",
       "    </tr>\n",
       "  </tbody>\n",
       "</table>\n",
       "</div>"
      ],
      "text/plain": [
       "     Name  Number       Date and time  Dates only\n",
       "0   First       0 2015-01-01 11:30:55  2015-02-01\n",
       "1  Second       1 2015-01-02 01:20:33  2015-02-02\n",
       "2   Third       2 2015-01-03 11:10:00  2015-02-03\n",
       "3  Fourth       3 2015-01-04 16:45:35  2015-02-04\n",
       "4   Fifth       4 2015-01-05 12:10:15  2015-02-05"
      ]
     },
     "execution_count": 36,
     "metadata": {},
     "output_type": "execute_result"
    }
   ],
   "source": [
    "df_test"
   ]
  },
  {
   "cell_type": "code",
   "execution_count": 37,
   "metadata": {},
   "outputs": [
    {
     "data": {
      "text/plain": [
       "datetime.date(2015, 2, 1)"
      ]
     },
     "execution_count": 37,
     "metadata": {},
     "output_type": "execute_result"
    }
   ],
   "source": [
    "df_test.iloc[0,-1]"
   ]
  },
  {
   "cell_type": "code",
   "execution_count": 38,
   "metadata": {},
   "outputs": [],
   "source": [
    "# Create a Pandas Excel writer using XlsxWriter as the engine.\n",
    "# Also set the default datetime and date formats.\n",
    "outfile = '//fps04\\\\RIC\\\\CDO\\\\DIAL Drive\\\\Daily_HAvBed\\\\test_date.xlsx'\n",
    "writer = pd.ExcelWriter(outfile,\n",
    "                        engine='xlsxwriter',\n",
    "                        datetime_format='mmm d yyyy hh:mm:ss',\n",
    "                        date_format='m/d/yyyy')\n",
    "\n",
    "# Convert the dataframe to an XlsxWriter Excel object.\n",
    "df_test.to_excel(writer, sheet_name='Region 11 - Chicago Hospitals', index=False)\n",
    "\n",
    "# Get the xlsxwriter workbook and worksheet objects in order to set the column\n",
    "# widths, to make the dates clearer.\n",
    "workbook  = writer.book\n",
    "worksheet = writer.sheets['Region 11 - Chicago Hospitals']\n",
    "\n",
    "worksheet.set_column('C:D', 20)\n",
    "\n",
    "# Close the Pandas Excel writer and output the Excel file.\n",
    "writer.save()"
   ]
  },
  {
   "cell_type": "markdown",
   "metadata": {},
   "source": [
    "# Test on excel file"
   ]
  },
  {
   "cell_type": "code",
   "execution_count": 14,
   "metadata": {},
   "outputs": [],
   "source": [
    "path = r'//fps04\\RIC\\CDO\\DIAL Drive\\Daily_HAvBed'\n",
    "matching_files = glob.glob(os.path.join(path,\"*Update 1_ Daily HAvBED Query Event Snapshot*\"))\n"
   ]
  },
  {
   "cell_type": "code",
   "execution_count": 16,
   "metadata": {},
   "outputs": [
    {
     "data": {
      "text/plain": [
       "'//fps04\\\\RIC\\\\CDO\\\\DIAL Drive\\\\Daily_HAvBed\\\\2019-01-07 2359 Update 1_ Daily HAvBED Query Event Snapshot.xlsx'"
      ]
     },
     "execution_count": 16,
     "metadata": {},
     "output_type": "execute_result"
    }
   ],
   "source": [
    "matching_files[0]"
   ]
  },
  {
   "cell_type": "code",
   "execution_count": 62,
   "metadata": {},
   "outputs": [
    {
     "name": "stdout",
     "output_type": "stream",
     "text": [
      "Number of rows added:  27\n",
      "File saved to:  //fps04\\RIC\\CDO\\DIAL Drive\\Daily_HAvBed\\test_date_dailyHavbed.xlsx\n"
     ]
    }
   ],
   "source": [
    "# for i,j in enumerate(matching_files):\n",
    "# input_file = j\n",
    "input_file = matching_files[0]\n",
    "# Load excel file and skip header row\n",
    "df = pd.read_excel(input_file, skiprows=[0])\n",
    "# delete Comment field\n",
    "del df['Comment']\n",
    "\n",
    "# add column with date from filename\n",
    "j = matching_files[0] ###\n",
    "j = j.strip('//fps04\\\\RIC\\\\CDO\\\\DIAL Drive\\\\Daily_HAvBed\\\\')\n",
    "j = j[:10]\n",
    "j = datetime.strptime(j, '%Y-%m-%d').date()\n",
    "# convert to string and remove leading zeros in date\n",
    "# j = str(j.strftime('%#m/%#d/%Y'))[:10]\n",
    "df['Date'] = j\n",
    "\n",
    "# drop last row that has the summary\n",
    "df.drop(df.loc[df['Region 11 - Chicago Hospitals']=='Summary'].index, inplace=True)\n",
    "\n",
    "# Print how many rows are being added\n",
    "print('Number of rows added: ',len(df))\n",
    "\n",
    "# Option 2: Save to cleaned_file.xlsx\n",
    "#       #  Remove spaces from names\n",
    "#         df = df.replace({' ': '', '--': ''}, regex=True)\n",
    "        # Keep spaces\n",
    "df.iloc[:,1:] = df.iloc[:,1:].replace({' ': '', '--': ''}, regex=True)\n",
    "\n",
    "output_file = '//fps04\\\\RIC\\\\CDO\\\\DIAL Drive\\\\Daily_HAvBed\\\\test_date_dailyHavbed.xlsx'\n",
    "# output_file = input_file\n",
    "\n",
    "# Create a Pandas Excel writer using XlsxWriter as the engine.\n",
    "# Also set the default datetime and date formats.\n",
    "writer = pd.ExcelWriter(output_file,\n",
    "                        engine='xlsxwriter',\n",
    "#                         datetime_format='mmm d yyyy hh:mm:ss',\n",
    "                        date_format='m/d/yyyy')\n",
    "\n",
    "# Convert the dataframe to an XlsxWriter Excel object.\n",
    "df.to_excel(writer, sheet_name='Region 11 - Chicago Hospitals', index=False)\n",
    "\n",
    "# Get the xlsxwriter workbook and worksheet objects in order to set the column\n",
    "# widths, to make the dates clearer.\n",
    "workbook  = writer.book\n",
    "worksheet = writer.sheets['Region 11 - Chicago Hospitals']\n",
    "\n",
    "# set column width for hospital names and date\n",
    "worksheet.set_column('A:A', 40)\n",
    "worksheet.set_column('AE:AE', 10)\n",
    "\n",
    "# Close the Pandas Excel writer and output the Excel file.\n",
    "writer.save()\n",
    "\n",
    "# Print confirmation\n",
    "print('File saved to: ', output_file)"
   ]
  }
 ],
 "metadata": {
  "kernelspec": {
   "display_name": "Python 3",
   "language": "python",
   "name": "python3"
  },
  "language_info": {
   "codemirror_mode": {
    "name": "ipython",
    "version": 3
   },
   "file_extension": ".py",
   "mimetype": "text/x-python",
   "name": "python",
   "nbconvert_exporter": "python",
   "pygments_lexer": "ipython3",
   "version": "3.7.0"
  }
 },
 "nbformat": 4,
 "nbformat_minor": 2
}
