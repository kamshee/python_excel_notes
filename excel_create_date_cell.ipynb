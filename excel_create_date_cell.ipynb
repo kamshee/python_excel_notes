{
 "cells": [
  {
   "cell_type": "markdown",
   "metadata": {},
   "source": [
    "# This works in creating a 'Date' formatted cell"
   ]
  },
  {
   "cell_type": "code",
   "execution_count": 1,
   "metadata": {},
   "outputs": [],
   "source": [
    "# import packages\n",
    "import pandas as pd\n",
    "import os\n",
    "from pathlib import PureWindowsPath\n",
    "import re\n",
    "from datetime import datetime, timedelta\n",
    "import glob"
   ]
  },
  {
   "cell_type": "code",
   "execution_count": 3,
   "metadata": {},
   "outputs": [],
   "source": [
    "from datetime import datetime, date\n",
    "\n",
    "# Create a Pandas dataframe from some datetime data.\n",
    "df = pd.DataFrame({'Date and time': [datetime(2015, 1, 1, 11, 30, 55),\n",
    "                                     datetime(2015, 1, 2, 1,  20, 33),\n",
    "                                     datetime(2015, 1, 3, 11, 10    ),\n",
    "                                     datetime(2015, 1, 4, 16, 45, 35),\n",
    "                                     datetime(2015, 1, 5, 12, 10, 15)],\n",
    "                   'Dates only':    [date(2015, 2, 1),\n",
    "                                     date(2015, 2, 2),\n",
    "                                     date(2015, 2, 3),\n",
    "                                     date(2015, 2, 4),\n",
    "                                     date(2015, 2, 5)],\n",
    "                   })"
   ]
  },
  {
   "cell_type": "code",
   "execution_count": 4,
   "metadata": {},
   "outputs": [
    {
     "data": {
      "text/html": [
       "<div>\n",
       "<style scoped>\n",
       "    .dataframe tbody tr th:only-of-type {\n",
       "        vertical-align: middle;\n",
       "    }\n",
       "\n",
       "    .dataframe tbody tr th {\n",
       "        vertical-align: top;\n",
       "    }\n",
       "\n",
       "    .dataframe thead th {\n",
       "        text-align: right;\n",
       "    }\n",
       "</style>\n",
       "<table border=\"1\" class=\"dataframe\">\n",
       "  <thead>\n",
       "    <tr style=\"text-align: right;\">\n",
       "      <th></th>\n",
       "      <th>Date and time</th>\n",
       "      <th>Dates only</th>\n",
       "    </tr>\n",
       "  </thead>\n",
       "  <tbody>\n",
       "    <tr>\n",
       "      <th>0</th>\n",
       "      <td>2015-01-01 11:30:55</td>\n",
       "      <td>2015-02-01</td>\n",
       "    </tr>\n",
       "    <tr>\n",
       "      <th>1</th>\n",
       "      <td>2015-01-02 01:20:33</td>\n",
       "      <td>2015-02-02</td>\n",
       "    </tr>\n",
       "    <tr>\n",
       "      <th>2</th>\n",
       "      <td>2015-01-03 11:10:00</td>\n",
       "      <td>2015-02-03</td>\n",
       "    </tr>\n",
       "    <tr>\n",
       "      <th>3</th>\n",
       "      <td>2015-01-04 16:45:35</td>\n",
       "      <td>2015-02-04</td>\n",
       "    </tr>\n",
       "    <tr>\n",
       "      <th>4</th>\n",
       "      <td>2015-01-05 12:10:15</td>\n",
       "      <td>2015-02-05</td>\n",
       "    </tr>\n",
       "  </tbody>\n",
       "</table>\n",
       "</div>"
      ],
      "text/plain": [
       "        Date and time  Dates only\n",
       "0 2015-01-01 11:30:55  2015-02-01\n",
       "1 2015-01-02 01:20:33  2015-02-02\n",
       "2 2015-01-03 11:10:00  2015-02-03\n",
       "3 2015-01-04 16:45:35  2015-02-04\n",
       "4 2015-01-05 12:10:15  2015-02-05"
      ]
     },
     "execution_count": 4,
     "metadata": {},
     "output_type": "execute_result"
    }
   ],
   "source": [
    "df"
   ]
  },
  {
   "cell_type": "code",
   "execution_count": 11,
   "metadata": {},
   "outputs": [],
   "source": [
    "# Create a Pandas Excel writer using XlsxWriter as the engine.\n",
    "# Also set the default datetime and date formats.\n",
    "writer = pd.ExcelWriter(\"test_DailyHAvBED.xlsx\",\n",
    "                        engine='xlsxwriter',\n",
    "                        datetime_format='mmm d yyyy hh:mm:ss',\n",
    "                        date_format='m/d/yyyy')\n",
    "\n",
    "# Convert the dataframe to an XlsxWriter Excel object.\n",
    "df.to_excel(writer, sheet_name='Region 11 - Chicago Hospitals')\n",
    "\n",
    "# Get the xlsxwriter workbook and worksheet objects in order to set the column\n",
    "# widths, to make the dates clearer.\n",
    "workbook  = writer.book\n",
    "worksheet = writer.sheets['Region 11 - Chicago Hospitals']\n",
    "\n",
    "worksheet.set_column('B:C', 20)\n",
    "\n",
    "# Close the Pandas Excel writer and output the Excel file.\n",
    "writer.save()"
   ]
  }
 ],
 "metadata": {
  "kernelspec": {
   "display_name": "Python 3",
   "language": "python",
   "name": "python3"
  },
  "language_info": {
   "codemirror_mode": {
    "name": "ipython",
    "version": 3
   },
   "file_extension": ".py",
   "mimetype": "text/x-python",
   "name": "python",
   "nbconvert_exporter": "python",
   "pygments_lexer": "ipython3",
   "version": "3.7.0"
  }
 },
 "nbformat": 4,
 "nbformat_minor": 2
}
